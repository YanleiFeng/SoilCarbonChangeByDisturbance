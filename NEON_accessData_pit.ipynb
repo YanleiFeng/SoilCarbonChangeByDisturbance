{
 "cells": [
  {
   "cell_type": "code",
   "execution_count": 1,
   "id": "3de18ce8-f5bb-4577-a381-b7129ed3208d",
   "metadata": {},
   "outputs": [],
   "source": [
    "# load neonutilities in working environment\n",
    "import neonutilities as nu\n",
    "import os"
   ]
  },
  {
   "cell_type": "code",
   "execution_count": 2,
   "id": "06ec7bcf-5fd4-448c-9f0b-b1e1d0eb8a33",
   "metadata": {},
   "outputs": [
    {
     "name": "stdout",
     "output_type": "stream",
     "text": [
      "Current working directory: /Users/yanlei/Documents/PhD/postdoc_3B/NEON_download\n"
     ]
    }
   ],
   "source": [
    "# Set the working directory to your desired path\n",
    "os.chdir('/Users/yanlei/Documents/PhD/postdoc_3B/NEON_download')\n",
    "\n",
    "# Verify the change\n",
    "print(\"Current working directory:\", os.getcwd())"
   ]
  },
  {
   "cell_type": "code",
   "execution_count": 3,
   "id": "6f6a0485-97a4-47a2-a5e4-7e0a846dda09",
   "metadata": {},
   "outputs": [
    {
     "name": "stderr",
     "output_type": "stream",
     "text": [
      "Finding available files\n",
      "\n",
      "00%|███████████████████████████████████████████| 47/47 [00:34<00:00,  1.36it/s]"
     ]
    },
    {
     "name": "stdin",
     "output_type": "stream",
     "text": [
      "Continuing will download 47 files totaling approximately 10.0 MB. Do you want to proceed? (y/n)  y\n"
     ]
    },
    {
     "name": "stderr",
     "output_type": "stream",
     "text": [
      "Downloading files\n",
      "\n",
      "Stacking data files\n",
      "\n",
      "00%|█████████████████████████████████████████████| 5/5 [00:00<00:00, 99.17it/s]"
     ]
    }
   ],
   "source": [
    "triptemp = nu.load_by_product(dpid=\"DP1.00096.001\")"
   ]
  },
  {
   "cell_type": "code",
   "execution_count": 4,
   "id": "58d51b6b-683f-4499-a8b1-5b2b2527d997",
   "metadata": {},
   "outputs": [
    {
     "data": {
      "text/plain": [
       "dict_keys(['citation_00096_RELEASE-2025', 'issueLog_00096', 'mgp_perarchivesample', 'mgp_perbiogeosample', 'mgp_perbulksample', 'mgp_perhorizon', 'mgp_permegapit', 'readme_00096', 'validation_00096', 'variables_00096'])"
      ]
     },
     "execution_count": 4,
     "metadata": {},
     "output_type": "execute_result"
    }
   ],
   "source": [
    "triptemp.keys()"
   ]
  },
  {
   "cell_type": "code",
   "execution_count": 7,
   "id": "3929c5f0-e9e4-411f-9f63-eb84a2b24aba",
   "metadata": {},
   "outputs": [],
   "source": [
    "sim_slsChemistryData = triptemp[\"mgp_perbulksample\"]"
   ]
  },
  {
   "cell_type": "code",
   "execution_count": 8,
   "id": "c09974d5-bd3f-4063-8144-a1ce9438f090",
   "metadata": {},
   "outputs": [
    {
     "data": {
      "text/plain": [
       "Index(['uid', 'domainID', 'siteID', 'pitNamedLocation', 'pitID', 'horizonID',\n",
       "       'bulkDensID', 'horizonName', 'setDate', 'collectDate', 'laboratoryName',\n",
       "       'labProjID', 'bulkDensCenterDepth', 'bulkDensTopDepth',\n",
       "       'bulkDensBottomDepth', 'bulkDensHorizonProportion',\n",
       "       'bulkDensSampleType', 'bulkDensExclCoarseFrag', 'remarks',\n",
       "       'publicationDate', 'release'],\n",
       "      dtype='object')"
      ]
     },
     "execution_count": 8,
     "metadata": {},
     "output_type": "execute_result"
    }
   ],
   "source": [
    "sim_slsChemistryData.columns"
   ]
  },
  {
   "cell_type": "code",
   "execution_count": 9,
   "id": "6ffa668e-358b-48f6-9c3d-7d5270b646ff",
   "metadata": {},
   "outputs": [
    {
     "data": {
      "text/html": [
       "<div>\n",
       "<style scoped>\n",
       "    .dataframe tbody tr th:only-of-type {\n",
       "        vertical-align: middle;\n",
       "    }\n",
       "\n",
       "    .dataframe tbody tr th {\n",
       "        vertical-align: top;\n",
       "    }\n",
       "\n",
       "    .dataframe thead th {\n",
       "        text-align: right;\n",
       "    }\n",
       "</style>\n",
       "<table border=\"1\" class=\"dataframe\">\n",
       "  <thead>\n",
       "    <tr style=\"text-align: right;\">\n",
       "      <th></th>\n",
       "      <th>uid</th>\n",
       "      <th>domainID</th>\n",
       "      <th>siteID</th>\n",
       "      <th>pitNamedLocation</th>\n",
       "      <th>pitID</th>\n",
       "      <th>horizonID</th>\n",
       "      <th>bulkDensID</th>\n",
       "      <th>horizonName</th>\n",
       "      <th>setDate</th>\n",
       "      <th>collectDate</th>\n",
       "      <th>...</th>\n",
       "      <th>labProjID</th>\n",
       "      <th>bulkDensCenterDepth</th>\n",
       "      <th>bulkDensTopDepth</th>\n",
       "      <th>bulkDensBottomDepth</th>\n",
       "      <th>bulkDensHorizonProportion</th>\n",
       "      <th>bulkDensSampleType</th>\n",
       "      <th>bulkDensExclCoarseFrag</th>\n",
       "      <th>remarks</th>\n",
       "      <th>publicationDate</th>\n",
       "      <th>release</th>\n",
       "    </tr>\n",
       "  </thead>\n",
       "  <tbody>\n",
       "    <tr>\n",
       "      <th>0</th>\n",
       "      <td>130dd94f-70fb-442c-93ad-586886452f46</td>\n",
       "      <td>D16</td>\n",
       "      <td>ABBY</td>\n",
       "      <td>MEGAPT102179</td>\n",
       "      <td>D16_ABBY_PIT1</td>\n",
       "      <td>16_ABBY_PIT1_AB</td>\n",
       "      <td>D16_ABBY_PIT1_BULKD_24-29_AB</td>\n",
       "      <td>AB</td>\n",
       "      <td>2015-06-01</td>\n",
       "      <td>2015-06-01</td>\n",
       "      <td>...</td>\n",
       "      <td>I2015USWA064</td>\n",
       "      <td>26.5</td>\n",
       "      <td>24.0</td>\n",
       "      <td>29.0</td>\n",
       "      <td>1.0</td>\n",
       "      <td>Regular</td>\n",
       "      <td>0.8475</td>\n",
       "      <td></td>\n",
       "      <td>20241118T190223Z</td>\n",
       "      <td>RELEASE-2025</td>\n",
       "    </tr>\n",
       "    <tr>\n",
       "      <th>1</th>\n",
       "      <td>10cd9852-d7af-4f3c-81ba-b8290f7b68bd</td>\n",
       "      <td>D16</td>\n",
       "      <td>ABBY</td>\n",
       "      <td>MEGAPT102179</td>\n",
       "      <td>D16_ABBY_PIT1</td>\n",
       "      <td>16_ABBY_PIT1_2BC</td>\n",
       "      <td>D16_ABBY_PIT1_BULKD_109-114_2BC</td>\n",
       "      <td>2BC</td>\n",
       "      <td>2015-06-01</td>\n",
       "      <td>2015-06-01</td>\n",
       "      <td>...</td>\n",
       "      <td>I2015USWA064</td>\n",
       "      <td>111.5</td>\n",
       "      <td>109.0</td>\n",
       "      <td>114.0</td>\n",
       "      <td>1.0</td>\n",
       "      <td>Regular</td>\n",
       "      <td>0.9698</td>\n",
       "      <td></td>\n",
       "      <td>20241118T190223Z</td>\n",
       "      <td>RELEASE-2025</td>\n",
       "    </tr>\n",
       "    <tr>\n",
       "      <th>2</th>\n",
       "      <td>31cedfca-9a06-4d68-95b4-a4974bb79845</td>\n",
       "      <td>D16</td>\n",
       "      <td>ABBY</td>\n",
       "      <td>MEGAPT102179</td>\n",
       "      <td>D16_ABBY_PIT1</td>\n",
       "      <td>16_ABBY_PIT1_2C</td>\n",
       "      <td>D16_ABBY_PIT1_BULKD_142-147_2C</td>\n",
       "      <td>2C</td>\n",
       "      <td>2015-06-01</td>\n",
       "      <td>2015-06-01</td>\n",
       "      <td>...</td>\n",
       "      <td>I2015USWA064</td>\n",
       "      <td>144.5</td>\n",
       "      <td>142.0</td>\n",
       "      <td>147.0</td>\n",
       "      <td>1.0</td>\n",
       "      <td>Regular</td>\n",
       "      <td>0.9510</td>\n",
       "      <td></td>\n",
       "      <td>20241118T190223Z</td>\n",
       "      <td>RELEASE-2025</td>\n",
       "    </tr>\n",
       "  </tbody>\n",
       "</table>\n",
       "<p>3 rows × 21 columns</p>\n",
       "</div>"
      ],
      "text/plain": [
       "                                    uid domainID siteID pitNamedLocation  \\\n",
       "0  130dd94f-70fb-442c-93ad-586886452f46      D16   ABBY     MEGAPT102179   \n",
       "1  10cd9852-d7af-4f3c-81ba-b8290f7b68bd      D16   ABBY     MEGAPT102179   \n",
       "2  31cedfca-9a06-4d68-95b4-a4974bb79845      D16   ABBY     MEGAPT102179   \n",
       "\n",
       "           pitID         horizonID                       bulkDensID  \\\n",
       "0  D16_ABBY_PIT1   16_ABBY_PIT1_AB     D16_ABBY_PIT1_BULKD_24-29_AB   \n",
       "1  D16_ABBY_PIT1  16_ABBY_PIT1_2BC  D16_ABBY_PIT1_BULKD_109-114_2BC   \n",
       "2  D16_ABBY_PIT1   16_ABBY_PIT1_2C   D16_ABBY_PIT1_BULKD_142-147_2C   \n",
       "\n",
       "  horizonName     setDate collectDate  ...     labProjID bulkDensCenterDepth  \\\n",
       "0          AB  2015-06-01  2015-06-01  ...  I2015USWA064                26.5   \n",
       "1         2BC  2015-06-01  2015-06-01  ...  I2015USWA064               111.5   \n",
       "2          2C  2015-06-01  2015-06-01  ...  I2015USWA064               144.5   \n",
       "\n",
       "   bulkDensTopDepth  bulkDensBottomDepth  bulkDensHorizonProportion  \\\n",
       "0              24.0                 29.0                        1.0   \n",
       "1             109.0                114.0                        1.0   \n",
       "2             142.0                147.0                        1.0   \n",
       "\n",
       "   bulkDensSampleType bulkDensExclCoarseFrag  remarks   publicationDate  \\\n",
       "0             Regular                 0.8475           20241118T190223Z   \n",
       "1             Regular                 0.9698           20241118T190223Z   \n",
       "2             Regular                 0.9510           20241118T190223Z   \n",
       "\n",
       "        release  \n",
       "0  RELEASE-2025  \n",
       "1  RELEASE-2025  \n",
       "2  RELEASE-2025  \n",
       "\n",
       "[3 rows x 21 columns]"
      ]
     },
     "execution_count": 9,
     "metadata": {},
     "output_type": "execute_result"
    }
   ],
   "source": [
    "sim_slsChemistryData.head(3)\n",
    "#Reduced by rock fragment (fG):\n",
    "#C stock(Mg/ha) = SOC(g/kg)*BD(g/cm3)*(1 – fG)*D(cm)/10\n",
    "# if pit ID and site ID cannot connect, use average bulkDensity per site\n",
    "# Then join by site ID"
   ]
  },
  {
   "cell_type": "code",
   "execution_count": 16,
   "id": "93f98291-6d8e-40f7-b86a-4e4f17173061",
   "metadata": {},
   "outputs": [
    {
     "data": {
      "text/plain": [
       "Index(['uid', 'domainID', 'siteID', 'pitNamedLocation', 'pitID', 'horizonID',\n",
       "       'biogeoID', 'horizonName', 'biogeoHorizonProportion',\n",
       "       'biogeoSampleType', 'setDate', 'collectDate', 'coarseFrag2To5',\n",
       "       'coarseFrag5To20', 'sandTotal', 'siltTotal', 'clayTotal',\n",
       "       'carbonateClay', 'clayFineContent', 'siltFineContent',\n",
       "       'siltCoarseContent', 'sandVeryFineContent', 'sandFineContent',\n",
       "       'sandMediumContent', 'sandCoarseContent', 'sandVeryCoarseContent',\n",
       "       'carbonTot', 'nitrogenTot', 'sulfurTot', 'estimatedOC', 'airDryOvenDry',\n",
       "       'alMjelm', 'caMjelm', 'feMjelm', 'kMjelm', 'mgMjelm', 'mnMjelm',\n",
       "       'naMjelm', 'pMjelm', 'siMjelm', 'srMjelm', 'tiMjelm', 'zrMjelm',\n",
       "       'phCacl2', 'phH2o', 'ec12pre', 'gypsumConc', 'caco3Conc', 'caNh4d',\n",
       "       'kNh4d', 'mgNh4d', 'naNh4d', 'cecdNh4', 'alSatCecd33', 'baseSumCecd10',\n",
       "       'bsesatCecd10', 'ececCecd33', 'alKcl', 'feKcl', 'mnKcl', 'bSatx',\n",
       "       'brSatx', 'caSatx', 'clSatx', 'co3Satx', 'ecSatp', 'flSatx',\n",
       "       'waterSatx', 'hco3Sx', 'kSatx', 'mgSatx', 'naSatx', 'no2Satx',\n",
       "       'no3Satx', 'pSatx', 'phSp', 'resist', 'so4Satx', 'laboratoryName',\n",
       "       'labProjID', 'biogeoTopDepth', 'biogeoBottomDepth', 'biogeoCenterDepth',\n",
       "       'remarks', 'publicationDate', 'release'],\n",
       "      dtype='object')"
      ]
     },
     "execution_count": 16,
     "metadata": {},
     "output_type": "execute_result"
    }
   ],
   "source": [
    "sim_slsChemistryData = triptemp[\"mgp_perbiogeosample\"]\n",
    "sim_slsChemistryData.columns"
   ]
  },
  {
   "cell_type": "code",
   "execution_count": 21,
   "id": "96597a13-69f2-4147-9ae0-05a68a6ce2de",
   "metadata": {},
   "outputs": [
    {
     "data": {
      "text/html": [
       "<div>\n",
       "<style scoped>\n",
       "    .dataframe tbody tr th:only-of-type {\n",
       "        vertical-align: middle;\n",
       "    }\n",
       "\n",
       "    .dataframe tbody tr th {\n",
       "        vertical-align: top;\n",
       "    }\n",
       "\n",
       "    .dataframe thead th {\n",
       "        text-align: right;\n",
       "    }\n",
       "</style>\n",
       "<table border=\"1\" class=\"dataframe\">\n",
       "  <thead>\n",
       "    <tr style=\"text-align: right;\">\n",
       "      <th></th>\n",
       "      <th>coarseFrag2To5</th>\n",
       "      <th>coarseFrag5To20</th>\n",
       "    </tr>\n",
       "  </thead>\n",
       "  <tbody>\n",
       "    <tr>\n",
       "      <th>0</th>\n",
       "      <td>221.0</td>\n",
       "      <td>2.0</td>\n",
       "    </tr>\n",
       "    <tr>\n",
       "      <th>1</th>\n",
       "      <td>139.0</td>\n",
       "      <td>33.0</td>\n",
       "    </tr>\n",
       "    <tr>\n",
       "      <th>2</th>\n",
       "      <td>106.0</td>\n",
       "      <td>75.0</td>\n",
       "    </tr>\n",
       "  </tbody>\n",
       "</table>\n",
       "</div>"
      ],
      "text/plain": [
       "   coarseFrag2To5  coarseFrag5To20\n",
       "0           221.0              2.0\n",
       "1           139.0             33.0\n",
       "2           106.0             75.0"
      ]
     },
     "execution_count": 21,
     "metadata": {},
     "output_type": "execute_result"
    }
   ],
   "source": [
    "a = sim_slsChemistryData.head(3)\n",
    "a[['coarseFrag2To5','coarseFrag5To20']]"
   ]
  },
  {
   "cell_type": "code",
   "execution_count": null,
   "id": "0fa87b60-a8d5-42ff-b77e-aa4c5cfc33f7",
   "metadata": {},
   "outputs": [],
   "source": []
  }
 ],
 "metadata": {
  "kernelspec": {
   "display_name": "Python [conda env:NEON]",
   "language": "python",
   "name": "conda-env-NEON-py"
  },
  "language_info": {
   "codemirror_mode": {
    "name": "ipython",
    "version": 3
   },
   "file_extension": ".py",
   "mimetype": "text/x-python",
   "name": "python",
   "nbconvert_exporter": "python",
   "pygments_lexer": "ipython3",
   "version": "3.9.21"
  }
 },
 "nbformat": 4,
 "nbformat_minor": 5
}
